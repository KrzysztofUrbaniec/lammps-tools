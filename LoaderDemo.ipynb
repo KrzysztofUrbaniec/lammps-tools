{
 "cells": [
  {
   "cell_type": "code",
   "execution_count": 1,
   "metadata": {},
   "outputs": [],
   "source": [
    "import os\n",
    "\n",
    "from DumpFileLoader import DumpFileLoader\n",
    "from com import convert_to_com\n",
    "from diffuse import compute_MSD, compute_diffusion_coefficient"
   ]
  },
  {
   "cell_type": "markdown",
   "metadata": {},
   "source": [
    "# Ionic Liquids simulation"
   ]
  },
  {
   "cell_type": "markdown",
   "metadata": {},
   "source": [
    "## Working with output files"
   ]
  },
  {
   "cell_type": "markdown",
   "metadata": {},
   "source": [
    "### Load the data into the memory"
   ]
  },
  {
   "cell_type": "markdown",
   "metadata": {},
   "source": [
    "Create an instance of the loader class and pass to the constructor the filepath of the LAMMPS output file."
   ]
  },
  {
   "cell_type": "code",
   "execution_count": 2,
   "metadata": {},
   "outputs": [],
   "source": [
    "def create_filepath(output_dirname, filename):\n",
    "    current_directory = os.getcwd()\n",
    "    return os.path.join(current_directory, output_dirname, filename)"
   ]
  },
  {
   "cell_type": "code",
   "execution_count": 3,
   "metadata": {},
   "outputs": [
    {
     "name": "stdout",
     "output_type": "stream",
     "text": [
      "Reading data...\n",
      "[==================================================] 100.0% Complete\n",
      "Done!\n"
     ]
    }
   ],
   "source": [
    "output_dirname_il = 'dump_files'\n",
    "filename_il = 'dump.msd.data.lammpstrj'\n",
    "path_il = create_filepath(output_dirname_il,filename_il)\n",
    "dump = DumpFileLoader(path_il)"
   ]
  },
  {
   "cell_type": "markdown",
   "metadata": {},
   "source": [
    "**Note:** For demonstration purposes the output file has been reduced to only a small excerpt from the original output file (about $\\frac{1}{16}$ of original size)."
   ]
  },
  {
   "cell_type": "markdown",
   "metadata": {},
   "source": [
    "### Examine the output file and simulation properties"
   ]
  },
  {
   "cell_type": "markdown",
   "metadata": {},
   "source": [
    "Check, what properties are available."
   ]
  },
  {
   "cell_type": "code",
   "execution_count": 4,
   "metadata": {},
   "outputs": [
    {
     "data": {
      "text/plain": [
       "['id', 'mol', 'type', 'xu', 'yu', 'zu']"
      ]
     },
     "execution_count": 4,
     "metadata": {},
     "output_type": "execute_result"
    }
   ],
   "source": [
    "dump.keywords"
   ]
  },
  {
   "cell_type": "markdown",
   "metadata": {},
   "source": [
    "Get a property stored in the output file, for instance x-coordinates of the atoms.\n",
    "\n",
    "The method returns an array, where rows represent consecutive timesteps and columns correspond to particular atoms. \n",
    "\n",
    "Shape of every matrix is equal to (n_timesteps x n_atoms)."
   ]
  },
  {
   "cell_type": "code",
   "execution_count": 5,
   "metadata": {},
   "outputs": [
    {
     "data": {
      "text/plain": [
       "array([[ 3.34494,  4.64709,  5.00862, ..., 10.7796 , 10.4966 , 12.119  ],\n",
       "       [ 3.72086,  4.94313,  5.00453, ..., 11.6035 , 11.0183 , 12.9521 ],\n",
       "       [ 3.75051,  5.01989,  5.6879 , ..., 11.646  , 11.7183 , 13.5293 ],\n",
       "       ...,\n",
       "       [ 9.26553,  9.53225,  8.4591 , ...,  6.95133,  9.04607,  7.51784],\n",
       "       [ 8.57136,  8.85552,  7.79865, ...,  6.57726,  7.12234,  5.14131],\n",
       "       [ 7.55631,  8.27237,  7.85658, ...,  6.97524,  7.55401,  5.58372]])"
      ]
     },
     "execution_count": 5,
     "metadata": {},
     "output_type": "execute_result"
    }
   ],
   "source": [
    "dump.get_property(name='xu')"
   ]
  },
  {
   "cell_type": "markdown",
   "metadata": {},
   "source": [
    "One can request a few properties at once, but then they will be assembled into arrays grouped by the timestep.\n",
    "\n",
    "The method returns a dictionary with a timestep-array key-value pairs."
   ]
  },
  {
   "cell_type": "code",
   "execution_count": 6,
   "metadata": {},
   "outputs": [
    {
     "data": {
      "text/plain": [
       "array([[1.0000e+00, 1.0000e+00],\n",
       "       [2.0000e+00, 2.0000e+00],\n",
       "       [3.0000e+00, 1.0000e+00],\n",
       "       ...,\n",
       "       [1.1998e+04, 1.4000e+01],\n",
       "       [1.1999e+04, 1.4000e+01],\n",
       "       [1.2000e+04, 1.4000e+01]])"
      ]
     },
     "execution_count": 6,
     "metadata": {},
     "output_type": "execute_result"
    }
   ],
   "source": [
    "# Get the array with selected properties at 0th timestep. Rows of each array correspond to particular atoms and columns represent specific properties.\n",
    "dump.get_custom_array(property_names=['id','type']).get(0) "
   ]
  },
  {
   "cell_type": "markdown",
   "metadata": {},
   "source": [
    "There is also a convenience method, which returns three spatial coordinates of the atoms at once."
   ]
  },
  {
   "cell_type": "code",
   "execution_count": 7,
   "metadata": {},
   "outputs": [
    {
     "data": {
      "text/plain": [
       "array([[ 3.34494 , 51.6558  , 14.1168  ],\n",
       "       [ 4.64709 , 51.5362  , 13.8074  ],\n",
       "       [ 5.00862 , 50.3206  , 13.6322  ],\n",
       "       ...,\n",
       "       [10.7796  ,  1.34339 , 22.7141  ],\n",
       "       [10.4966  , -0.585713, 21.9233  ],\n",
       "       [12.119   ,  0.581047, 21.1432  ]])"
      ]
     },
     "execution_count": 7,
     "metadata": {},
     "output_type": "execute_result"
    }
   ],
   "source": [
    "# Columns of the array correspond to x,y,z atomic coordinates\n",
    "dump.get_coordinates_array().get(0)"
   ]
  },
  {
   "cell_type": "markdown",
   "metadata": {},
   "source": [
    "### Recognize the molecules populating the studied system"
   ]
  },
  {
   "cell_type": "markdown",
   "metadata": {},
   "source": [
    "DumpFileLoader class provides a method to recognize molecule types in the system based on the types of atoms, which constitute them. \n",
    "\n",
    "The method will work only if the each molecule type consists of disjoint sets of atomic types, i.e. it won't work if type A and type B molecules both contain a type C atom.\n",
    "\n",
    "The method requires the user to indicate, which types of the atoms correspond to which molecules and (optionally) provide names for these molecules."
   ]
  },
  {
   "cell_type": "code",
   "execution_count": 8,
   "metadata": {},
   "outputs": [],
   "source": [
    "# Bmim/Ntf2 are the (shortened) names of ions present in the system\n",
    "# If the names of the molecules are not provided, the method will automatically name them mol1, mol2, ...\n",
    "dump.recognize_molecules(mols_by_atom_types=[[1,2,3,4,5,6,7,8,9,10,11,12],[13,14,15,16,17]],molnames=['bmim', 'ntf2'])"
   ]
  },
  {
   "cell_type": "markdown",
   "metadata": {},
   "source": [
    "This method will internally create two objects of a separate class (MoleculeType), representing a molecule. \n",
    "\n",
    "Instances of this class and thus collective properties of these molecules can be accessed with another method from the DumpFileLoader class."
   ]
  },
  {
   "cell_type": "code",
   "execution_count": 9,
   "metadata": {},
   "outputs": [],
   "source": [
    "# Get objects representing collections of molecules of particular types\n",
    "bmim_mol = dump.get_molecule_type('bmim')\n",
    "ntf2_mol = dump.get_molecule_type('ntf2')"
   ]
  },
  {
   "cell_type": "code",
   "execution_count": 10,
   "metadata": {},
   "outputs": [
    {
     "name": "stdout",
     "output_type": "stream",
     "text": [
      "Types of the atoms in \"bmim\" type molecule: [1, 2, 3, 4, 5, 6, 7, 8, 9, 10, 11, 12]\n",
      "Number of \"ntf2\" molecules in the system: 300\n"
     ]
    }
   ],
   "source": [
    "# Exemplary properties\n",
    "print(f'Types of the atoms in \"bmim\" type molecule: {bmim_mol.atom_types}')\n",
    "print(f'Number of \"ntf2\" molecules in the system: {ntf2_mol.nummols}')"
   ]
  },
  {
   "cell_type": "markdown",
   "metadata": {},
   "source": [
    "## Computations"
   ]
  },
  {
   "cell_type": "markdown",
   "metadata": {},
   "source": [
    "### Molecular Center-of-Mass (COM)"
   ]
  },
  {
   "cell_type": "markdown",
   "metadata": {},
   "source": [
    "COM of a collection of molecules can be computed with a function called convert_to_com() from \"com\" package.\n",
    "\n",
    "The function takes an instance of DumpFileLoader class as an argument and modifies it in-place, so the new properties becomes available, namely, spatial coordinates of the molecules.\n",
    "\n",
    "To determine the COM of the collection of point particles, the knowledge of the mass of each particle is necessary. The function doesn't require to specify the exact mapping beteween the atom type and the mass, but only if LAMMPS output files contained the \"element\" property. If this is not the case, then the dictionary with types and masses must be provided. In this case, only the second approach is feasible."
   ]
  },
  {
   "cell_type": "code",
   "execution_count": 12,
   "metadata": {},
   "outputs": [
    {
     "name": "stdout",
     "output_type": "stream",
     "text": [
      "Computing COM for molecules of type: bmim\n",
      "[==================================================] 100.0% Complete\n",
      "Computing COM for molecules of type: ntf2\n",
      "[==================================================] 100.0% Complete\n"
     ]
    }
   ],
   "source": [
    "# Conversion with explicit type-to-mass mapping\n",
    "# key: atom type, value: mass\n",
    "TYPE_MASS_MAP = {\n",
    "    1 : 14.007,\n",
    "    2 : 12.011, \n",
    "    3 : 12.011, \n",
    "    4 : 12.011,\n",
    "    5 : 1.008, \n",
    "    6 : 12.011, \n",
    "    7 : 1.008, \n",
    "    8 : 1.008, \n",
    "    9 : 12.011, \n",
    "    10 : 12.011, \n",
    "    11 : 1.008, \n",
    "    12 : 12.001,\n",
    "    13 : 12.001, \n",
    "    14 : 18.998, \n",
    "    15 : 32.066, \n",
    "    16 : 14.000,\n",
    "    17 : 15.999\n",
    "}\n",
    "\n",
    "convert_to_com(dump_obj=dump, type_to_mass_map=TYPE_MASS_MAP)"
   ]
  },
  {
   "cell_type": "markdown",
   "metadata": {},
   "source": [
    "New properties are now available."
   ]
  },
  {
   "cell_type": "code",
   "execution_count": 13,
   "metadata": {},
   "outputs": [
    {
     "data": {
      "text/plain": [
       "array([[ 4.73627316,  9.51567366, 49.74607202, ...,  4.51353512,\n",
       "         3.15239237, 34.37975716],\n",
       "       [ 4.794112  ,  9.4775941 , 50.27156235, ...,  5.21096495,\n",
       "         2.82895607, 34.40709327],\n",
       "       [ 5.43377311,  9.39680091, 49.70253523, ...,  5.95625701,\n",
       "         2.54295986, 35.15429271],\n",
       "       ...,\n",
       "       [ 9.12005669, 11.17132652, 49.81019071, ...,  4.44348585,\n",
       "         4.75230141, 32.36748976],\n",
       "       [ 8.5478359 , 10.85251582, 50.04375468, ...,  4.0803734 ,\n",
       "         3.9954628 , 31.98672228],\n",
       "       [ 8.23961716, 10.90107774, 49.19767655, ...,  3.48880359,\n",
       "         3.60053005, 31.9045971 ]])"
      ]
     },
     "execution_count": 13,
     "metadata": {},
     "output_type": "execute_result"
    }
   ],
   "source": [
    "# x-coordinate of center-of-mass of \"bmim\" type molecules at different timesteps\n",
    "bmim_mol.get_property('COM_x')"
   ]
  },
  {
   "cell_type": "code",
   "execution_count": 14,
   "metadata": {},
   "outputs": [
    {
     "data": {
      "text/plain": [
       "array([[18.60247009, 35.55398619, 30.67612932, ..., 15.17217033,\n",
       "        48.0819595 , -1.34222687],\n",
       "       [18.06583964, 35.78571356, 30.31571683, ..., 14.61555347,\n",
       "        47.64379476, -1.61553866],\n",
       "       [18.89926567, 35.72912265, 29.79019837, ..., 15.63878333,\n",
       "        47.79759638, -0.8722287 ],\n",
       "       ...,\n",
       "       [16.61636395, 30.36172599, 30.30868843, ..., 17.23400848,\n",
       "        44.39131352,  1.34704694],\n",
       "       [15.21338696, 30.84712675, 31.06287901, ..., 16.31415774,\n",
       "        44.28523817,  1.1949276 ],\n",
       "       [16.00823733, 31.20191614, 30.80599118, ..., 16.80992105,\n",
       "        44.18859033,  1.26480308]])"
      ]
     },
     "execution_count": 14,
     "metadata": {},
     "output_type": "execute_result"
    }
   ],
   "source": [
    "# y-coordinate of center-of-mass of \"bmim\" type molecules at different timesteps\n",
    "ntf2_mol.get_property('COM_y')"
   ]
  },
  {
   "cell_type": "markdown",
   "metadata": {},
   "source": [
    "### Mean-Square-Displacement (MSD)"
   ]
  },
  {
   "cell_type": "markdown",
   "metadata": {},
   "source": [
    "Mean-square-displacement of a collection of molecules can be computed with a function called compute_MSD() from \"diffuse\" package.\n",
    "\n",
    "The function takes an instance of MoleculeType class as an argument.\n",
    "\n",
    "For more effective use of the simulation data, the MSD is computed using half of available simulation time. This allows to use different timesteps as reference points (origins), relative to which the MSD is computed. The separation of succesive time origins can be controlled with origin_step_interval parameter. For example, if  origin_step_interval=10, the MSD will be computed with respect to the molecular coordinates at 0th, 10th, 20th, ... timestep."
   ]
  },
  {
   "cell_type": "code",
   "execution_count": 15,
   "metadata": {},
   "outputs": [],
   "source": [
    "# as_key=True indicates, that the result will be stored as an attribute of the \"bmim\" object\n",
    "compute_MSD(moltype_obj=bmim_mol, origin_step_interval=10, as_key=True)\n",
    "compute_MSD(moltype_obj=ntf2_mol, origin_step_interval=10, as_key=True)"
   ]
  },
  {
   "cell_type": "markdown",
   "metadata": {},
   "source": [
    "MSD computed at different timesteps (rows) relative to successive time origins (columns) is now available as a separate property."
   ]
  },
  {
   "cell_type": "code",
   "execution_count": 16,
   "metadata": {},
   "outputs": [
    {
     "data": {
      "text/plain": [
       "array([[1.62113262, 1.75816815, 1.72128133, 1.68288179],\n",
       "       [2.60381004, 2.37221966, 2.207438  , 2.26664253],\n",
       "       [3.17929162, 2.81605136, 3.10109807, 3.00220839],\n",
       "       [3.35303378, 3.19171788, 3.8366876 , 3.26772588],\n",
       "       [4.14804025, 3.73398913, 3.94287522, 3.69262895]])"
      ]
     },
     "execution_count": 16,
     "metadata": {},
     "output_type": "execute_result"
    }
   ],
   "source": [
    "bmim_mol.get_property('MSD')[:5]"
   ]
  },
  {
   "cell_type": "markdown",
   "metadata": {},
   "source": [
    "MSDs computed with respect to different time origins can be plotted as a function of simulation time."
   ]
  },
  {
   "cell_type": "code",
   "execution_count": 17,
   "metadata": {},
   "outputs": [],
   "source": [
    "import matplotlib.pyplot as plt\n",
    "import numpy as np\n",
    "\n",
    "def plot_MSD_vs_time(moltype: DumpFileLoader.MoleculeType):\n",
    "    fig, ax = plt.subplots(figsize=(8,4), ncols=2, sharey=True)\n",
    "    fig.suptitle(f'Plot of MSD vs simulation time for {moltype.name} molecule type')\n",
    "\n",
    "    timestep_length = moltype.timesteps[1] / 1000\n",
    "    MSD = moltype.get_property('MSD')\n",
    "    n_origins = MSD.shape[1]\n",
    "    time_interval = np.arange(1, MSD.shape[0] + 1) * timestep_length\n",
    "\n",
    "    for reference_timestep in range(n_origins):\n",
    "        ax[0].plot(time_interval, MSD[:,reference_timestep], label=f'{reference_timestep + 1}')\n",
    "\n",
    "    for axes in ax:\n",
    "        axes.set_xlabel('t (ps)', labelpad=10)\n",
    "        axes.set_ylim([0,14])\n",
    "\n",
    "    ax[0].set_ylabel('MSD $\\mathregular{(\\u00c5^2)}$', labelpad=10)\n",
    "    ax[0].set_title('')\n",
    "    ax[0].legend(title='Time origin')\n",
    "    \n",
    "    ax[1].plot(time_interval, MSD.mean(axis=1), color='tab:purple', label='mean')\n",
    "    ax[1].tick_params(axis='y',length=0)\n",
    "    ax[1].legend(loc='upper left')\n",
    "\n",
    "    plt.tight_layout()\n",
    "    plt.subplots_adjust(wspace=0)"
   ]
  },
  {
   "cell_type": "code",
   "execution_count": 18,
   "metadata": {},
   "outputs": [
    {
     "data": {
      "image/png": "[encoded data removed]",
      "text/plain": [
       "<Figure size 800x400 with 2 Axes>"
      ]
     },
     "metadata": {},
     "output_type": "display_data"
    }
   ],
   "source": [
    "plot_MSD_vs_time(bmim_mol)"
   ]
  },
  {
   "cell_type": "code",
   "execution_count": 19,
   "metadata": {},
   "outputs": [
    {
     "data": {
      "image/png": "[encoded data removed]",
      "text/plain": [
       "<Figure size 800x400 with 2 Axes>"
      ]
     },
     "metadata": {},
     "output_type": "display_data"
    }
   ],
   "source": [
    "plot_MSD_vs_time(ntf2_mol)"
   ]
  },
  {
   "cell_type": "markdown",
   "metadata": {},
   "source": [
    "**Note:** Because this data is a fragment of a larger file, the simulation time is quite short (~120 ps). Actual computations of dynamical properties of these compounds (ionic liquids) require much longer timespan (a few nanoseconds)."
   ]
  },
  {
   "cell_type": "markdown",
   "metadata": {},
   "source": [
    "### Diffusion coefficients"
   ]
  },
  {
   "cell_type": "markdown",
   "metadata": {},
   "source": [
    "The diffusion coefficient of molecules of particular type can be computed using a function called compute_diffusion_coefficient() from \"diffuse\" package.\n",
    "\n",
    "This function uses the following relation:\n",
    "\n",
    "$D = \\frac{1}{6t} \\lim_{t\\to\\infty} MSD(t)$\n",
    "\n",
    "And utilizes the estimate the slope of the MSD(t) curve to compute the diffusion coefficient. The MSD used for computations is the average with respect to different time origins.\n",
    "\n",
    "The function takes MoleculeType object as an argument and requires that the MSD property is available for given type of a molecule. The output includes the diffusion coefficient, the estimate of the slope of MSD(t) curve and the standard error of the slope. \n",
    "\n",
    "The function allows to specify two additional parameters - start_time and end_time - which in turn allow to determine the part of MSD vs time curve used for computations. necessary as a significant amount of time is needed for the molecules to reach the \"diffusive regime\", where the slope of the curve becomes approximately constant [Alavi,2020].\n",
    "\n",
    "\\\n",
    "Alavi, S. Molecular Simulations, Fundamentals and Practice, **2020**, p. 248-252, Wiley-VCH Verlag GmbH & Co. KGaA"
   ]
  },
  {
   "cell_type": "code",
   "execution_count": 20,
   "metadata": {},
   "outputs": [
    {
     "name": "stdout",
     "output_type": "stream",
     "text": [
      "Bmim diffusion coefficient: 1.42e-10 m^2/s, slope of MSD(t) curve: 8.50e-05 Angstrom^2/s and std of the slope 1.63e-06 Angstrom^2/s\n"
     ]
    }
   ],
   "source": [
    "# Start_time and end_time are the indices of particular timesteps\n",
    "# Index = (real simulation time / timestep) - 1 -> (40000 fs / 4000) fs = 9\n",
    "D_bmim, D_bmim_slope, D_bmim_std = compute_diffusion_coefficient(bmim_mol)\n",
    "print(\"Bmim diffusion coefficient: {:0.2e} m^2/s, slope of MSD(t) curve: {:0.2e} Angstrom^2/s and std of the slope {:0.2e} Angstrom^2/s\".format(D_bmim,D_bmim_slope,D_bmim_std))"
   ]
  },
  {
   "cell_type": "markdown",
   "metadata": {},
   "source": [
    "## Save your work"
   ]
  },
  {
   "cell_type": "markdown",
   "metadata": {},
   "source": [
    "DumpFileLoader class comes with two methods, which allow to serialize and deserialize the instances of the class to binary files in order to preserve the their state and prevent the necessity to load large output files again."
   ]
  },
  {
   "cell_type": "code",
   "execution_count": 21,
   "metadata": {},
   "outputs": [
    {
     "name": "stdout",
     "output_type": "stream",
     "text": [
      "The object has been saved to: output_saved.pkl\n"
     ]
    }
   ],
   "source": [
    "# Save the state\n",
    "dump.save_dump_state(filename='output_saved')"
   ]
  },
  {
   "cell_type": "code",
   "execution_count": 22,
   "metadata": {},
   "outputs": [],
   "source": [
    "# Restore the object\n",
    "dump_restored = DumpFileLoader.load_saved_state('./output_saved.pkl')"
   ]
  },
  {
   "cell_type": "code",
   "execution_count": 23,
   "metadata": {},
   "outputs": [
    {
     "data": {
      "text/plain": [
       "array([[1.62113262, 1.75816815, 1.72128133, 1.68288179],\n",
       "       [2.60381004, 2.37221966, 2.207438  , 2.26664253],\n",
       "       [3.17929162, 2.81605136, 3.10109807, 3.00220839],\n",
       "       [3.35303378, 3.19171788, 3.8366876 , 3.26772588],\n",
       "       [4.14804025, 3.73398913, 3.94287522, 3.69262895]])"
      ]
     },
     "execution_count": 23,
     "metadata": {},
     "output_type": "execute_result"
    }
   ],
   "source": [
    "# All previously computed properties are still there\n",
    "bmim_restored = dump_restored.get_molecule_type('bmim')\n",
    "bmim_restored.get_property('MSD')[:5]"
   ]
  }
 ],
 "metadata": {
  "kernelspec": {
   "display_name": "Python 3",
   "language": "python",
   "name": "python3"
  },
  "language_info": {
   "codemirror_mode": {
    "name": "ipython",
    "version": 3
   },
   "file_extension": ".py",
   "mimetype": "text/x-python",
   "name": "python",
   "nbconvert_exporter": "python",
   "pygments_lexer": "ipython3",
   "version": "3.10.12"
  }
 },
 "nbformat": 4,
 "nbformat_minor": 2
}
